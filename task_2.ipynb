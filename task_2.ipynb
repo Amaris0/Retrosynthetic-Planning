{
 "cells": [
  {
   "cell_type": "code",
   "execution_count": 1,
   "id": "4fb1ae82",
   "metadata": {},
   "outputs": [
    {
     "name": "stderr",
     "output_type": "stream",
     "text": [
      "C:\\Users\\12263\\anaconda3\\envs\\pytorch\\lib\\site-packages\\sklearn\\neural_network\\_multilayer_perceptron.py:686: ConvergenceWarning: Stochastic Optimizer: Maximum iterations (200) reached and the optimization hasn't converged yet.\n",
      "  warnings.warn(\n"
     ]
    },
    {
     "name": "stdout",
     "output_type": "stream",
     "text": [
      "使用方程 3.1 的总成本: 1.918793797492981\n",
      "使用方程 3.2 的总成本: 1.9187933\n"
     ]
    }
   ],
   "source": [
    "import numpy as np\n",
    "import dill\n",
    "import torch\n",
    "from sklearn.neural_network import MLPRegressor\n",
    "from sklearn.model_selection import train_test_split\n",
    "\n",
    "# 加载训练集和测试集数据\n",
    "with open('train.pkl', 'rb') as f:\n",
    "    train_data = dill.load(f)\n",
    "\n",
    "with open('test.pkl', 'rb') as f:\n",
    "    test_data = dill.load(f)\n",
    "\n",
    "train_packed_fps = train_data['packed_fp']\n",
    "train_values = train_data['values']\n",
    "\n",
    "test_packed_fps = test_data['packed_fp']\n",
    "test_values = test_data['values']\n",
    "\n",
    "# 数据降采样\n",
    "# sample_ratio = 0.5\n",
    "# train_packed_fps, _, train_values, _ = train_test_split(train_packed_fps, train_values, test_size=sample_ratio, random_state=42)\n",
    "\n",
    "train_fingerprints = []\n",
    "for i in range(len(train_packed_fps)):\n",
    "    unpacked_fp_i = np.unpackbits(train_packed_fps[i]).astype(np.float32)\n",
    "    train_fingerprints.append(unpacked_fp_i)\n",
    "\n",
    "train_fingerprints = np.array(train_fingerprints)\n",
    "train_values = np.array(train_values, dtype=np.float32)\n",
    "train_values = train_values.ravel()  # 将train_values转换为一维数组\n",
    "\n",
    "# 训练 MLP 模型\n",
    "model_mlp = MLPRegressor(hidden_layer_sizes=(50, 50))  # 可根据需要调整隐藏层的大小和层数\n",
    "model_mlp.fit(train_fingerprints, train_values)\n",
    "\n",
    "# 使用 MLP 模型预测测试集数据\n",
    "test_fingerprints = []\n",
    "for i in range(len(test_packed_fps)):\n",
    "    unpacked_fp_i = np.unpackbits(test_packed_fps[i]).astype(np.float32)\n",
    "    test_fingerprints.append(unpacked_fp_i)\n",
    "\n",
    "test_fingerprints = np.array(test_fingerprints)\n",
    "\n",
    "test_values = np.array(test_values, dtype=np.float32)  # 将test_values转换为NumPy数组\n",
    "test_predictions_mlp = model_mlp.predict(test_fingerprints)\n",
    "\n",
    "# 使用方程 3.1 预测多个分子的成本\n",
    "def predict_multiple_molecules(molecules, model):\n",
    "    costs = []\n",
    "    for molecule in molecules:\n",
    "        unpacked_fp = np.unpackbits(molecule).astype(np.float32)\n",
    "        cost = model.predict([unpacked_fp])[0]\n",
    "        costs.append(cost)\n",
    "    return costs\n",
    "\n",
    "# 生成一些测试分子\n",
    "test_molecules = [test_packed_fps[0], test_packed_fps[1], test_packed_fps[2]]  # 根据需求替换为相应的测试分子\n",
    "\n",
    "# 使用方程 3.1 预测多个分子的成本\n",
    "predicted_costs_mlp = predict_multiple_molecules(test_molecules, model_mlp)\n",
    "\n",
    "# 求和预测的成本\n",
    "total_cost_eq_3_1 = sum(predicted_costs_mlp)\n",
    "print(\"使用方程 3.1 的总成本:\", total_cost_eq_3_1)\n",
    "\n",
    "\n",
    "# 使用方程 3.2 预测多个分子的成本\n",
    "def predict_total_cost(molecules, model):\n",
    "    fingerprints = []\n",
    "    for molecule in molecules:\n",
    "        unpacked_fp = np.unpackbits(molecule).astype(np.float32)\n",
    "        fingerprints.append(unpacked_fp)\n",
    "    fingerprints = np.array(fingerprints)\n",
    "    costs = model.predict(fingerprints)\n",
    "    total_cost = costs.sum()\n",
    "    return total_cost\n",
    "\n",
    "# 使用方程 3.2 预测多个分子的成本\n",
    "total_cost_eq_3_2 = predict_total_cost(test_molecules, model_mlp)\n",
    "print(\"使用方程 3.2 的总成本:\", total_cost_eq_3_2)\n"
   ]
  },
  {
   "cell_type": "code",
   "execution_count": null,
   "id": "1d9717dd",
   "metadata": {},
   "outputs": [],
   "source": []
  }
 ],
 "metadata": {
  "kernelspec": {
   "display_name": "Python 3 (ipykernel)",
   "language": "python",
   "name": "python3"
  },
  "language_info": {
   "codemirror_mode": {
    "name": "ipython",
    "version": 3
   },
   "file_extension": ".py",
   "mimetype": "text/x-python",
   "name": "python",
   "nbconvert_exporter": "python",
   "pygments_lexer": "ipython3",
   "version": "3.9.16"
  }
 },
 "nbformat": 4,
 "nbformat_minor": 5
}
