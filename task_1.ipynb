{
 "cells": [
  {
   "cell_type": "code",
   "execution_count": 6,
   "id": "1f727687",
   "metadata": {},
   "outputs": [
    {
     "name": "stdout",
     "output_type": "stream",
     "text": [
      "accuracy：0.256651\n"
     ]
    }
   ],
   "source": [
    "import pandas as pd\n",
    "import numpy as np\n",
    "from rdkit import Chem\n",
    "from rdkit.Chem import AllChem\n",
    "from rdchiral.template_extractor import extract_from_reaction\n",
    "from rdchiral.main import rdchiralRunText\n",
    "from sklearn.model_selection import train_test_split\n",
    "from sklearn.feature_extraction.text import CountVectorizer\n",
    "from sklearn.svm import SVC\n",
    "from sklearn.metrics import accuracy_score\n",
    "\n",
    "\n",
    "# 步骤1：加载和预处理数据集\n",
    "data = pd.read_csv('raw_train.csv')  # 替换为您的数据集文件路径\n",
    "data = data.dropna()  # 删除含有缺失值的行\n",
    "\n",
    "# 步骤2：提取反应模板\n",
    "def extract_template(reaction):\n",
    "    reactants, products = reaction.split('>>')\n",
    "    input_rec = {'_id': None, 'reactants': reactants, 'products': products}\n",
    "    ans = extract_from_reaction(input_rec)\n",
    "    if 'reaction_smarts' in ans.keys():\n",
    "        return ans['reaction_smarts']\n",
    "    else:\n",
    "        return None\n",
    "\n",
    "data['template'] = data['reactants>reagents>production'].apply(extract_template)\n",
    "data = data.dropna()  # 删除缺少模板的反应\n",
    "\n",
    "# 步骤3：将产物转换为Morgan指纹\n",
    "def convert_to_fingerprint(product):\n",
    "    mol = Chem.MolFromSmiles(product)\n",
    "    \n",
    "    fp = AllChem.GetMorganFingerprintAsBitVect(mol, 2, nBits=2048)\n",
    "    on_bits = list(fp.GetOnBits())\n",
    "    arr = np.zeros(fp.GetNumBits(), dtype=bool)\n",
    "    arr[on_bits] = 1\n",
    "    return arr\n",
    "\n",
    "# 分割\"reactants>reagents>production\"列为\"reactants\"和\"products\"列\n",
    "data[['reactants', 'products']] = data['reactants>reagents>production'].str.split('>>', expand=True)\n",
    "\n",
    "data['fingerprint'] = data['products'].apply(convert_to_fingerprint)\n",
    "\n",
    "# 步骤4：准备用于模型训练的数据\n",
    "X = data['fingerprint'].tolist()\n",
    "y = data['template'].tolist()\n",
    "\n",
    "# 步骤5：对指纹进行向量化\n",
    "vectorizer = CountVectorizer(binary=True, dtype=bool)\n",
    "\n",
    "# 将指纹数组转换为字符串文本\n",
    "X_str = [np.array2string(fp) for fp in X]\n",
    "X_vec = vectorizer.fit_transform(X_str)\n",
    "\n",
    "# 步骤6：训练SVM模型\n",
    "model = SVC()\n",
    "model.fit(X_vec, y)\n",
    "\n",
    "# 步骤7：对测试数据进行预测\n",
    "test_data = pd.read_csv('raw_test.csv')  # 替换为您的测试数据集文件路径\n",
    "test_data = test_data.dropna()\n",
    "\n",
    "test_data['template'] = test_data['reactants>reagents>production'].apply(extract_template)\n",
    "test_data = test_data.dropna()  # 删除缺少模板的反应\n",
    "\n",
    "test_data[['reactants', 'products']] = test_data['reactants>reagents>production'].str.split('>>', expand=True)\n",
    "test_data['fingerprint'] = test_data['products'].apply(convert_to_fingerprint)\n",
    "X_test = test_data['fingerprint'].tolist()\n",
    "X_test_vec = vectorizer.transform([np.array2string(fp) for fp in X_test])\n",
    "\n",
    "y_test_pred = []\n",
    "for i in range(X_test_vec.shape[0]):\n",
    "    prediction = model.predict(X_test_vec[i])\n",
    "    y_test_pred.append(prediction[0])\n",
    "\n",
    "test_accuracy = accuracy_score(test_data['template'], y_test_pred)\n",
    "print(f\"accuracy：{test_accuracy}\")\n"
   ]
  },
  {
   "cell_type": "code",
   "execution_count": null,
   "id": "98471edd",
   "metadata": {},
   "outputs": [],
   "source": []
  }
 ],
 "metadata": {
  "kernelspec": {
   "display_name": "Python 3 (ipykernel)",
   "language": "python",
   "name": "python3"
  },
  "language_info": {
   "codemirror_mode": {
    "name": "ipython",
    "version": 3
   },
   "file_extension": ".py",
   "mimetype": "text/x-python",
   "name": "python",
   "nbconvert_exporter": "python",
   "pygments_lexer": "ipython3",
   "version": "3.9.16"
  }
 },
 "nbformat": 4,
 "nbformat_minor": 5
}
